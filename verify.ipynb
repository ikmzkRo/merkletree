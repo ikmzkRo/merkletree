{
 "cells": [
  {
   "cell_type": "code",
   "execution_count": 2,
   "metadata": {},
   "outputs": [],
   "source": [
    "# ref: \n",
    "\n",
    "from hashlib import sha256\n",
    "\n",
    "class Node:\n",
    "    def __init__(self, data):\n",
    "        self.left     = None\n",
    "        self.right    = None\n",
    "        self.parent   = None\n",
    "        self.sibling  = None\n",
    "        self.position = None\n",
    "        self.data     = data\n",
    "        self.hash = sha256(data.encode()).hexdigest()\n",
    "       \n",
    "class Tree:\n",
    "    def __init__(self, leaves):\n",
    "        self.leaves = [Node(leaf) for leaf in leaves]\n",
    "        self.layer  = self.leaves[::]\n",
    "        self.root   = None\n",
    "        self.build_tree()\n",
    "    \n",
    "    def build_layer(self):\n",
    "        new_layer = []\n",
    "        \n",
    "        # 要素数が奇数なら最後の要素を複製して追加\n",
    "        if len(self.layer) % 2 == 1:\n",
    "            self.layer.append(self.layer[-1])\n",
    "        \n",
    "        for i in range(0, len(self.layer), 2):\n",
    "            left = self.layer[i]\n",
    "            right = self.layer[i+1]\n",
    "            parent = Node(left.hash + right.hash)\n",
    "            \n",
    "            left.parent = parent\n",
    "            left.sibling = right\n",
    "            left.position = \"left\"\n",
    "            \n",
    "            right.parent = parent\n",
    "            right.sibling = left\n",
    "            right.position = \"right\"\n",
    "            \n",
    "            parent.left = left\n",
    "            parent.right = right\n",
    "            \n",
    "            new_layer.append(parent)\n",
    "        \n",
    "        self.layer = new_layer\n",
    "    \n",
    "    def build_tree(self):\n",
    "        while len(self.layer) > 1:\n",
    "            self.build_layer()\n",
    "        self.root = self.layer[0].hash\n",
    "    \n",
    "    def search(self, data):\n",
    "        target = None\n",
    "        hash_value = sha256(data.encode()).hexdigest()\n",
    "        for node in self.leaves:\n",
    "            if node.hash == hash_value:\n",
    "                target = node\n",
    "        return target\n",
    "    \n",
    "    def get_pass(self, data):\n",
    "        target = self.search(data)\n",
    "        markle_pass = []\n",
    "        if not(target):\n",
    "            return\n",
    "        markle_pass.append(target.hash)\n",
    "        while target.parent:\n",
    "            sibling = target.sibling\n",
    "            markle_pass.append((sibling.hash, sibling.position))\n",
    "            target = target.parent\n",
    "        return markle_pass   \n",
    "      \n",
    "def caluculator(markle_pass):\n",
    "    value = markle_pass[0]\n",
    "    for node in markle_pass[1:]:\n",
    "        sib = node[0]\n",
    "        position = node[1]\n",
    "        if position == \"right\":\n",
    "            value = sha256(value.encode() + sib.encode()).hexdigest()\n",
    "        else:\n",
    "            value = sha256(sib.encode() + value.encode()).hexdigest()\n",
    "    return value      "
   ]
  },
  {
   "cell_type": "code",
   "execution_count": 14,
   "metadata": {},
   "outputs": [
    {
     "name": "stdout",
     "output_type": "stream",
     "text": [
      "['あめ', 'あめ', 'みかん', 'みかん', 'みかん', 'りんご', 'りんご', 'どーなっつ', 'どーなっつ']\n",
      "[<__main__.Node object at 0x7f7cba7deb20>, <__main__.Node object at 0x7f7cba7dee50>, <__main__.Node object at 0x7f7cba7decd0>, <__main__.Node object at 0x7f7cba7deb50>, <__main__.Node object at 0x7f7cba7de850>, <__main__.Node object at 0x7f7cba7dec10>, <__main__.Node object at 0x7f7cba7de460>, <__main__.Node object at 0x7f7cba7de4f0>, <__main__.Node object at 0x7f7cba7de610>]\n",
      "[<__main__.Node object at 0x7f7cbaea1310>]\n",
      "bf03b42cf8e4e8581e08c7595775dc2d9d79c34f9b95885a5d42df100786a218\n",
      "['1cbe93b936a4bd4d40c2224462023917cd77c962376feb9128d9e569c9856aaf', ('4261abfc91324dc5319312592125610a16b0b0a996fcdfae1d24766b918afae9', 'right'), ('0a6b2aa3a1fc41a9394c48adbf1cb1c3eb3e3a9db975906fb743308f23e1f15b', 'right'), ('2165f2270bbe8ce292395df14cb4e65e271fe608013c018d6b5864ec9f1865c8', 'left'), ('94f4c2ba6d697dc41109e2194343bf721e2bbc5de48068609578c0f4ba5481ed', 'right')]\n",
      "bf03b42cf8e4e8581e08c7595775dc2d9d79c34f9b95885a5d42df100786a218\n"
     ]
    }
   ],
   "source": [
    "block = [\"あめ\", \"あめ\", \"みかん\", \"みかん\", \"みかん\", \"りんご\", \"りんご\", \"どーなっつ\", \"どーなっつ\"]\n",
    "print(block)\n",
    "\n",
    "merkletree = Tree(block)\n",
    "\n",
    "merkle_leaves = merkletree.leaves\n",
    "print(merkle_leaves)\n",
    "\n",
    "merkle_layer = merkletree.layer\n",
    "print(merkle_layer)\n",
    "\n",
    "merkle_root = merkletree.root\n",
    "print(merkle_root)\n",
    "\n",
    "merkle_pass = merkletree.get_pass(\"みかん\")\n",
    "print(merkle_pass)\n",
    "\n",
    "candidate = caluculator(merkle_pass)\n",
    "print(candidate)"
   ]
  },
  {
   "cell_type": "code",
   "execution_count": 16,
   "metadata": {},
   "outputs": [
    {
     "name": "stdout",
     "output_type": "stream",
     "text": [
      "['あめ', 'あめ', 'みかん', 'みかん', 'りんご', 'りんご', 'どーなっつ', 'どーなっつ']\n",
      "['1cbe93b936a4bd4d40c2224462023917cd77c962376feb9128d9e569c9856aaf', ('1cbe93b936a4bd4d40c2224462023917cd77c962376feb9128d9e569c9856aaf', 'left'), ('aa280a624da2b88334623a7033f5a6eac1da7012ace335a6366828f59377ed1b', 'left'), ('4d8a97b9474b34c013c92ba1662bb98ae8cab97681ae21b9843db45ee2854730', 'right')]\n",
      "b8cc63db762632990e49bea7832293ae2d18cff643c78c1e2274c7fcf757354a\n",
      "b8cc63db762632990e49bea7832293ae2d18cff643c78c1e2274c7fcf757354a\n"
     ]
    }
   ],
   "source": [
    "block = [\"あめ\", \"あめ\", \"みかん\", \"みかん\", \"りんご\", \"りんご\", \"どーなっつ\", \"どーなっつ\"]\n",
    "print(block)\n",
    "\n",
    "merkletree = Tree(block)\n",
    "\n",
    "merkle_pass = merkletree.get_pass(\"みかん\")\n",
    "print(merkle_pass)\n",
    "\n",
    "candidate = caluculator(merkle_pass)\n",
    "print(candidate)\n",
    "\n",
    "merkle_root = merkletree.root\n",
    "print(merkle_root)"
   ]
  }
 ],
 "metadata": {
  "kernelspec": {
   "display_name": "Python 3 (ipykernel)",
   "language": "python",
   "name": "python3"
  },
  "language_info": {
   "codemirror_mode": {
    "name": "ipython",
    "version": 3
   },
   "file_extension": ".py",
   "mimetype": "text/x-python",
   "name": "python",
   "nbconvert_exporter": "python",
   "pygments_lexer": "ipython3",
   "version": "3.8.10"
  }
 },
 "nbformat": 4,
 "nbformat_minor": 4
}
